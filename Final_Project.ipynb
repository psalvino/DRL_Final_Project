{
 "cells": [
  {
   "cell_type": "markdown",
   "id": "f6f52694",
   "metadata": {},
   "source": [
    "# MSAI 495: Deep Reinforcement Learning\n",
    "### Final Project\n",
    "### Alec Lei, Peter Salvino, Riuze Yang, & Qiaohan Yang"
   ]
  },
  {
   "cell_type": "markdown",
   "id": "1603bf96",
   "metadata": {},
   "source": [
    "Package requirements:\n",
    "\n",
    "-datajoint (Requires Python>= 3.4)"
   ]
  },
  {
   "cell_type": "code",
   "execution_count": 7,
   "id": "578bde8b",
   "metadata": {},
   "outputs": [],
   "source": [
    "import datajoint as dj\n",
    "import sys\n",
    "import numpy as np\n",
    "import pandas as pd"
   ]
  },
  {
   "cell_type": "markdown",
   "id": "f91a9ffa",
   "metadata": {},
   "source": [
    "Server configuration: requires connection to Northwestern VPN"
   ]
  },
  {
   "cell_type": "code",
   "execution_count": null,
   "id": "99165c52",
   "metadata": {},
   "outputs": [],
   "source": [
    "runfile('./InitialConf.py')"
   ]
  },
  {
   "cell_type": "code",
   "execution_count": 4,
   "id": "b17016ef",
   "metadata": {},
   "outputs": [],
   "source": [
    "query = behavior.TowersSessionTrial()"
   ]
  },
  {
   "cell_type": "code",
   "execution_count": null,
   "id": "913f945e",
   "metadata": {},
   "outputs": [
    {
     "name": "stderr",
     "output_type": "stream",
     "text": [
      "C:\\ProgramData\\Anaconda3\\lib\\site-packages\\datajoint\\connection.py:342: UserWarning: MySQL server has gone away. Reconnecting to the server.\n",
      "  warnings.warn(\"MySQL server has gone away. Reconnecting to the server.\")\n"
     ]
    }
   ],
   "source": [
    "behaviordata = pd.DataFrame(query.fetch())"
   ]
  },
  {
   "cell_type": "code",
   "execution_count": null,
   "id": "180df879",
   "metadata": {},
   "outputs": [],
   "source": []
  },
  {
   "cell_type": "code",
   "execution_count": null,
   "id": "9bdb7be0",
   "metadata": {},
   "outputs": [],
   "source": []
  }
 ],
 "metadata": {
  "kernelspec": {
   "display_name": "Python 3 (ipykernel)",
   "language": "python",
   "name": "python3"
  },
  "language_info": {
   "codemirror_mode": {
    "name": "ipython",
    "version": 3
   },
   "file_extension": ".py",
   "mimetype": "text/x-python",
   "name": "python",
   "nbconvert_exporter": "python",
   "pygments_lexer": "ipython3",
   "version": "3.9.7"
  }
 },
 "nbformat": 4,
 "nbformat_minor": 5
}
