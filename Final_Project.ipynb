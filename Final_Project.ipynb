{
 "cells": [
  {
   "cell_type": "markdown",
   "id": "f6f52694",
   "metadata": {},
   "source": [
    "# MSAI 495: Deep Reinforcement Learning\n",
    "### Final Project\n",
    "### Tianhao Lei, Peter Salvino, Ruize Yang, & Qiaohan Yang"
   ]
  },
  {
   "cell_type": "markdown",
   "id": "1603bf96",
   "metadata": {},
   "source": [
    "Package requirements:\n",
    "-datajoint (Requires Python>= 3.4)\n",
    "-if data is download, please load data with pickle"
   ]
  },
  {
   "cell_type": "code",
   "execution_count": 1,
   "id": "578bde8b",
   "metadata": {},
   "outputs": [],
   "source": [
    "import os\n",
    "import sys\n",
    "import numpy as np\n",
    "import pandas as pd\n",
    "import pickle as pk\n",
    "import matplotlib.pyplot as plt\n",
    "import ssm\n",
    "from ssm.util import find_permutation"
   ]
  },
  {
   "cell_type": "markdown",
   "id": "f91a9ffa",
   "metadata": {},
   "source": [
    "## Run the following parts if you need to clean the data.\n",
    "### If not, please download the clean data and skip this part"
   ]
  },
  {
   "cell_type": "code",
   "execution_count": 2,
   "id": "99165c52",
   "metadata": {},
   "outputs": [
    {
     "data": {
      "text/plain": "       subject_fullname  session_number  trial_id trial_type choice\n0            apr456_CR1               1         1          R      L\n1            apr456_CR1               1         2          L      L\n2            apr456_CR1               1         3          R      L\n3            apr456_CR1               1         4          L      L\n4            apr456_CR1               1         5          L      L\n...                 ...             ...       ...        ...    ...\n416783    Unknown_Peter               1         1          R      R\n416784    Unknown_Peter               1         2          R      R\n416785    Unknown_Peter               1         3          L      L\n416786    Unknown_Peter               1         4          L      L\n416787    Unknown_Peter               1        -1       None   None\n\n[416788 rows x 5 columns]",
      "text/html": "<div>\n<style scoped>\n    .dataframe tbody tr th:only-of-type {\n        vertical-align: middle;\n    }\n\n    .dataframe tbody tr th {\n        vertical-align: top;\n    }\n\n    .dataframe thead th {\n        text-align: right;\n    }\n</style>\n<table border=\"1\" class=\"dataframe\">\n  <thead>\n    <tr style=\"text-align: right;\">\n      <th></th>\n      <th>subject_fullname</th>\n      <th>session_number</th>\n      <th>trial_id</th>\n      <th>trial_type</th>\n      <th>choice</th>\n    </tr>\n  </thead>\n  <tbody>\n    <tr>\n      <th>0</th>\n      <td>apr456_CR1</td>\n      <td>1</td>\n      <td>1</td>\n      <td>R</td>\n      <td>L</td>\n    </tr>\n    <tr>\n      <th>1</th>\n      <td>apr456_CR1</td>\n      <td>1</td>\n      <td>2</td>\n      <td>L</td>\n      <td>L</td>\n    </tr>\n    <tr>\n      <th>2</th>\n      <td>apr456_CR1</td>\n      <td>1</td>\n      <td>3</td>\n      <td>R</td>\n      <td>L</td>\n    </tr>\n    <tr>\n      <th>3</th>\n      <td>apr456_CR1</td>\n      <td>1</td>\n      <td>4</td>\n      <td>L</td>\n      <td>L</td>\n    </tr>\n    <tr>\n      <th>4</th>\n      <td>apr456_CR1</td>\n      <td>1</td>\n      <td>5</td>\n      <td>L</td>\n      <td>L</td>\n    </tr>\n    <tr>\n      <th>...</th>\n      <td>...</td>\n      <td>...</td>\n      <td>...</td>\n      <td>...</td>\n      <td>...</td>\n    </tr>\n    <tr>\n      <th>416783</th>\n      <td>Unknown_Peter</td>\n      <td>1</td>\n      <td>1</td>\n      <td>R</td>\n      <td>R</td>\n    </tr>\n    <tr>\n      <th>416784</th>\n      <td>Unknown_Peter</td>\n      <td>1</td>\n      <td>2</td>\n      <td>R</td>\n      <td>R</td>\n    </tr>\n    <tr>\n      <th>416785</th>\n      <td>Unknown_Peter</td>\n      <td>1</td>\n      <td>3</td>\n      <td>L</td>\n      <td>L</td>\n    </tr>\n    <tr>\n      <th>416786</th>\n      <td>Unknown_Peter</td>\n      <td>1</td>\n      <td>4</td>\n      <td>L</td>\n      <td>L</td>\n    </tr>\n    <tr>\n      <th>416787</th>\n      <td>Unknown_Peter</td>\n      <td>1</td>\n      <td>-1</td>\n      <td>None</td>\n      <td>None</td>\n    </tr>\n  </tbody>\n</table>\n<p>416788 rows × 5 columns</p>\n</div>"
     },
     "execution_count": 2,
     "metadata": {},
     "output_type": "execute_result"
    }
   ],
   "source": [
    "# load the raw data\n",
    "data_path=r'data/behaviordata'\n",
    "\n",
    "with open(data_path,'rb') as f:\n",
    "    data=pk.load(f)\n",
    "data[['subject_fullname','session_number','trial_id','trial_type','choice']]"
   ]
  },
  {
   "cell_type": "code",
   "execution_count": 3,
   "outputs": [
    {
     "data": {
      "text/plain": "       subject_fullname session_date  session_number                  task  \\\n0            apr456_CR1   2021-09-28               2      TowersTaskSwitch   \n1            apr456_CR1   2021-09-28               2      TowersTaskSwitch   \n2            apr456_CR1   2021-09-28               2      TowersTaskSwitch   \n3            apr456_CR1   2021-09-28               2      TowersTaskSwitch   \n4            apr456_CR1   2021-09-28               2      TowersTaskSwitch   \n...                 ...          ...             ...                   ...   \n134369       apr456_TS8   2021-11-09               1  TowersTaskSwitchEasy   \n134370       apr456_TS8   2021-11-09               1  TowersTaskSwitchEasy   \n134371       apr456_TS8   2021-11-09               1  TowersTaskSwitchEasy   \n134372       apr456_TS8   2021-11-09               1  TowersTaskSwitchEasy   \n134373       apr456_TS8   2021-11-09               1  TowersTaskSwitchEasy   \n\n        protocol_id  trial_id maze_id main_maze_id trial_type choice  ...  \\\n0                 2        17      11           11          R      R  ...   \n1                 2        18      11           11          L      L  ...   \n2                 2        19      11           11          L      L  ...   \n3                 2        20      11           11          R      R  ...   \n4                 2        21      11           11          L      L  ...   \n...             ...       ...     ...          ...        ...    ...  ...   \n134369            3       209      11           11          R      R  ...   \n134370            3       210      11           11          L      R  ...   \n134371            3       211      11           11          R      R  ...   \n134372            3       218      11           11          R      R  ...   \n134373            3       219      11           11          R      R  ...   \n\n        t_cue_entry  t_mem_entry   t_turn t_choice_made  t_reward     t_iti  \\\n0           1.20552      3.99751  4.29751       7.14768   7.15610   8.44789   \n1           1.25294      3.86986  3.90327       6.67835   6.68664   7.98687   \n2           1.28354      3.70875  3.70875       7.17565   7.18403   8.46765   \n3           1.23340      3.95028  3.96694       7.61773   7.63231   8.92588   \n4           1.62524      4.23376  4.23376       7.22577   7.23439   8.52593   \n...             ...          ...      ...           ...       ...       ...   \n134369      6.02491      9.70000  9.70833      12.88370  12.89230  14.50070   \n134370      2.63380      5.45876  6.50895       8.57607       NaN   9.64249   \n134371      3.08150      5.95687  8.80719       9.73256   9.74058  11.34070   \n134372      1.11419      3.38098  5.69792       7.87327   7.88175   9.49006   \n134373      1.46690      4.20618  4.48137       7.62582   7.63416       NaN   \n\n       trial_prior_p_right reward_amount block_performance  \\\n0                      NaN           1.8          1.000000   \n1                      NaN           1.8          1.000000   \n2                      NaN           1.8          1.000000   \n3                      NaN           1.8          1.000000   \n4                      NaN           1.8          1.000000   \n...                    ...           ...               ...   \n134369                 NaN           3.0          0.333333   \n134370                 NaN           0.0          0.333333   \n134371                 NaN           3.0          0.333333   \n134372                 NaN           3.0          1.000000   \n134373                 NaN           3.0          1.000000   \n\n       is_first_trial_of_block  \n0                            1  \n1                            0  \n2                            0  \n3                            0  \n4                            0  \n...                        ...  \n134369                       0  \n134370                       0  \n134371                       0  \n134372                       1  \n134373                       0  \n\n[134374 rows x 54 columns]",
      "text/html": "<div>\n<style scoped>\n    .dataframe tbody tr th:only-of-type {\n        vertical-align: middle;\n    }\n\n    .dataframe tbody tr th {\n        vertical-align: top;\n    }\n\n    .dataframe thead th {\n        text-align: right;\n    }\n</style>\n<table border=\"1\" class=\"dataframe\">\n  <thead>\n    <tr style=\"text-align: right;\">\n      <th></th>\n      <th>subject_fullname</th>\n      <th>session_date</th>\n      <th>session_number</th>\n      <th>task</th>\n      <th>protocol_id</th>\n      <th>trial_id</th>\n      <th>maze_id</th>\n      <th>main_maze_id</th>\n      <th>trial_type</th>\n      <th>choice</th>\n      <th>...</th>\n      <th>t_cue_entry</th>\n      <th>t_mem_entry</th>\n      <th>t_turn</th>\n      <th>t_choice_made</th>\n      <th>t_reward</th>\n      <th>t_iti</th>\n      <th>trial_prior_p_right</th>\n      <th>reward_amount</th>\n      <th>block_performance</th>\n      <th>is_first_trial_of_block</th>\n    </tr>\n  </thead>\n  <tbody>\n    <tr>\n      <th>0</th>\n      <td>apr456_CR1</td>\n      <td>2021-09-28</td>\n      <td>2</td>\n      <td>TowersTaskSwitch</td>\n      <td>2</td>\n      <td>17</td>\n      <td>11</td>\n      <td>11</td>\n      <td>R</td>\n      <td>R</td>\n      <td>...</td>\n      <td>1.20552</td>\n      <td>3.99751</td>\n      <td>4.29751</td>\n      <td>7.14768</td>\n      <td>7.15610</td>\n      <td>8.44789</td>\n      <td>NaN</td>\n      <td>1.8</td>\n      <td>1.000000</td>\n      <td>1</td>\n    </tr>\n    <tr>\n      <th>1</th>\n      <td>apr456_CR1</td>\n      <td>2021-09-28</td>\n      <td>2</td>\n      <td>TowersTaskSwitch</td>\n      <td>2</td>\n      <td>18</td>\n      <td>11</td>\n      <td>11</td>\n      <td>L</td>\n      <td>L</td>\n      <td>...</td>\n      <td>1.25294</td>\n      <td>3.86986</td>\n      <td>3.90327</td>\n      <td>6.67835</td>\n      <td>6.68664</td>\n      <td>7.98687</td>\n      <td>NaN</td>\n      <td>1.8</td>\n      <td>1.000000</td>\n      <td>0</td>\n    </tr>\n    <tr>\n      <th>2</th>\n      <td>apr456_CR1</td>\n      <td>2021-09-28</td>\n      <td>2</td>\n      <td>TowersTaskSwitch</td>\n      <td>2</td>\n      <td>19</td>\n      <td>11</td>\n      <td>11</td>\n      <td>L</td>\n      <td>L</td>\n      <td>...</td>\n      <td>1.28354</td>\n      <td>3.70875</td>\n      <td>3.70875</td>\n      <td>7.17565</td>\n      <td>7.18403</td>\n      <td>8.46765</td>\n      <td>NaN</td>\n      <td>1.8</td>\n      <td>1.000000</td>\n      <td>0</td>\n    </tr>\n    <tr>\n      <th>3</th>\n      <td>apr456_CR1</td>\n      <td>2021-09-28</td>\n      <td>2</td>\n      <td>TowersTaskSwitch</td>\n      <td>2</td>\n      <td>20</td>\n      <td>11</td>\n      <td>11</td>\n      <td>R</td>\n      <td>R</td>\n      <td>...</td>\n      <td>1.23340</td>\n      <td>3.95028</td>\n      <td>3.96694</td>\n      <td>7.61773</td>\n      <td>7.63231</td>\n      <td>8.92588</td>\n      <td>NaN</td>\n      <td>1.8</td>\n      <td>1.000000</td>\n      <td>0</td>\n    </tr>\n    <tr>\n      <th>4</th>\n      <td>apr456_CR1</td>\n      <td>2021-09-28</td>\n      <td>2</td>\n      <td>TowersTaskSwitch</td>\n      <td>2</td>\n      <td>21</td>\n      <td>11</td>\n      <td>11</td>\n      <td>L</td>\n      <td>L</td>\n      <td>...</td>\n      <td>1.62524</td>\n      <td>4.23376</td>\n      <td>4.23376</td>\n      <td>7.22577</td>\n      <td>7.23439</td>\n      <td>8.52593</td>\n      <td>NaN</td>\n      <td>1.8</td>\n      <td>1.000000</td>\n      <td>0</td>\n    </tr>\n    <tr>\n      <th>...</th>\n      <td>...</td>\n      <td>...</td>\n      <td>...</td>\n      <td>...</td>\n      <td>...</td>\n      <td>...</td>\n      <td>...</td>\n      <td>...</td>\n      <td>...</td>\n      <td>...</td>\n      <td>...</td>\n      <td>...</td>\n      <td>...</td>\n      <td>...</td>\n      <td>...</td>\n      <td>...</td>\n      <td>...</td>\n      <td>...</td>\n      <td>...</td>\n      <td>...</td>\n      <td>...</td>\n    </tr>\n    <tr>\n      <th>134369</th>\n      <td>apr456_TS8</td>\n      <td>2021-11-09</td>\n      <td>1</td>\n      <td>TowersTaskSwitchEasy</td>\n      <td>3</td>\n      <td>209</td>\n      <td>11</td>\n      <td>11</td>\n      <td>R</td>\n      <td>R</td>\n      <td>...</td>\n      <td>6.02491</td>\n      <td>9.70000</td>\n      <td>9.70833</td>\n      <td>12.88370</td>\n      <td>12.89230</td>\n      <td>14.50070</td>\n      <td>NaN</td>\n      <td>3.0</td>\n      <td>0.333333</td>\n      <td>0</td>\n    </tr>\n    <tr>\n      <th>134370</th>\n      <td>apr456_TS8</td>\n      <td>2021-11-09</td>\n      <td>1</td>\n      <td>TowersTaskSwitchEasy</td>\n      <td>3</td>\n      <td>210</td>\n      <td>11</td>\n      <td>11</td>\n      <td>L</td>\n      <td>R</td>\n      <td>...</td>\n      <td>2.63380</td>\n      <td>5.45876</td>\n      <td>6.50895</td>\n      <td>8.57607</td>\n      <td>NaN</td>\n      <td>9.64249</td>\n      <td>NaN</td>\n      <td>0.0</td>\n      <td>0.333333</td>\n      <td>0</td>\n    </tr>\n    <tr>\n      <th>134371</th>\n      <td>apr456_TS8</td>\n      <td>2021-11-09</td>\n      <td>1</td>\n      <td>TowersTaskSwitchEasy</td>\n      <td>3</td>\n      <td>211</td>\n      <td>11</td>\n      <td>11</td>\n      <td>R</td>\n      <td>R</td>\n      <td>...</td>\n      <td>3.08150</td>\n      <td>5.95687</td>\n      <td>8.80719</td>\n      <td>9.73256</td>\n      <td>9.74058</td>\n      <td>11.34070</td>\n      <td>NaN</td>\n      <td>3.0</td>\n      <td>0.333333</td>\n      <td>0</td>\n    </tr>\n    <tr>\n      <th>134372</th>\n      <td>apr456_TS8</td>\n      <td>2021-11-09</td>\n      <td>1</td>\n      <td>TowersTaskSwitchEasy</td>\n      <td>3</td>\n      <td>218</td>\n      <td>11</td>\n      <td>11</td>\n      <td>R</td>\n      <td>R</td>\n      <td>...</td>\n      <td>1.11419</td>\n      <td>3.38098</td>\n      <td>5.69792</td>\n      <td>7.87327</td>\n      <td>7.88175</td>\n      <td>9.49006</td>\n      <td>NaN</td>\n      <td>3.0</td>\n      <td>1.000000</td>\n      <td>1</td>\n    </tr>\n    <tr>\n      <th>134373</th>\n      <td>apr456_TS8</td>\n      <td>2021-11-09</td>\n      <td>1</td>\n      <td>TowersTaskSwitchEasy</td>\n      <td>3</td>\n      <td>219</td>\n      <td>11</td>\n      <td>11</td>\n      <td>R</td>\n      <td>R</td>\n      <td>...</td>\n      <td>1.46690</td>\n      <td>4.20618</td>\n      <td>4.48137</td>\n      <td>7.62582</td>\n      <td>7.63416</td>\n      <td>NaN</td>\n      <td>NaN</td>\n      <td>3.0</td>\n      <td>1.000000</td>\n      <td>0</td>\n    </tr>\n  </tbody>\n</table>\n<p>134374 rows × 54 columns</p>\n</div>"
     },
     "execution_count": 3,
     "metadata": {},
     "output_type": "execute_result"
    }
   ],
   "source": [
    "# remove test mice\n",
    "data = data[~(data.subject_fullname.isin([\"Unknown_Peter\", \"apr456_CR6error\", \"lpr6177_test1\", \"pss3570_TrainTest\"]))]\n",
    "\n",
    "# only keep session with final maze\n",
    "data = data[data.main_maze_id == 11]\n",
    "\n",
    "# remove trials in warmup block\n",
    "data = data[data.maze_id == 11]\n",
    "\n",
    "# re-index\n",
    "data.reset_index(drop=True, inplace = True)\n",
    "\n",
    "data"
   ],
   "metadata": {
    "collapsed": false,
    "pycharm": {
     "name": "#%%\n"
    }
   }
  },
  {
   "cell_type": "code",
   "execution_count": 4,
   "outputs": [
    {
     "name": "stderr",
     "output_type": "stream",
     "text": [
      "/var/folders/4x/y92l2fhs0vgdynj3nfnsq6k00000gn/T/ipykernel_82794/1954714835.py:4: FutureWarning: In a future version of pandas all arguments of DataFrame.drop except for the argument 'labels' will be keyword-only.\n",
      "  session_large = session_large.drop('trial_count', 1)\n",
      "/var/folders/4x/y92l2fhs0vgdynj3nfnsq6k00000gn/T/ipykernel_82794/1954714835.py:10: FutureWarning: In a future version of pandas all arguments of DataFrame.drop except for the argument 'labels' will be keyword-only.\n",
      "  data = data.drop('_merge', 1)\n"
     ]
    }
   ],
   "source": [
    "# find sessions with more than 200 trial\n",
    "session = data.groupby([\"subject_fullname\", \"session_date\", \"session_number\"]).size().reset_index().rename(columns={0:'trial_count'})\n",
    "session_large = session[session.trial_count > 200]\n",
    "session_large = session_large.drop('trial_count', 1)\n",
    "\n",
    "# keep only data in good sessions\n",
    "data = pd.merge(data, session_large, how='outer', indicator=True)\n",
    "data = data[data._merge == \"both\"]\n",
    "\n",
    "data = data.drop('_merge', 1)\n",
    "data.reset_index(drop=True, inplace = True)\n"
   ],
   "metadata": {
    "collapsed": false,
    "pycharm": {
     "name": "#%%\n"
    }
   }
  },
  {
   "cell_type": "code",
   "execution_count": 5,
   "outputs": [
    {
     "data": {
      "text/plain": "<Figure size 432x288 with 1 Axes>",
      "image/png": "[encoded data removed]"
     },
     "metadata": {
      "needs_background": "light"
     },
     "output_type": "display_data"
    },
    {
     "name": "stderr",
     "output_type": "stream",
     "text": [
      "/var/folders/4x/y92l2fhs0vgdynj3nfnsq6k00000gn/T/ipykernel_82794/1869163912.py:16: FutureWarning: In a future version of pandas all arguments of DataFrame.drop except for the argument 'labels' will be keyword-only.\n",
      "  data = data.drop('block_keep', 1)\n"
     ]
    }
   ],
   "source": [
    "# find the start and length of each block\n",
    "block_start = data[data.is_first_trial_of_block == 1]\n",
    "block_start = block_start.index.to_numpy()\n",
    "block_start = np.append(block_start, len(data))\n",
    "block_length = np.diff(block_start)\n",
    "\n",
    "plt.hist(np.sort(block_length)[0:-2], bins = 50)\n",
    "plt.show()\n",
    "\n",
    "# keep only blocks with length > 10\n",
    "block_keep = 1 * (block_length >= 10)\n",
    "block_keep = np.repeat(block_keep, block_length)\n",
    "data['block_keep'] = block_keep\n",
    "data = data[data.block_keep == 1]\n",
    "\n",
    "data = data.drop('block_keep', 1)\n",
    "data.reset_index(drop=True, inplace = True)\n"
   ],
   "metadata": {
    "collapsed": false,
    "pycharm": {
     "name": "#%%\n"
    }
   }
  },
  {
   "cell_type": "code",
   "execution_count": 6,
   "outputs": [
    {
     "name": "stdout",
     "output_type": "stream",
     "text": [
      "    subject_fullname session_date  session_number  trial_count\n",
      "0         apr456_CR2   2021-10-12               1          115\n",
      "1         apr456_CR3   2021-11-03               1           80\n",
      "2         apr456_CR3   2021-11-05               1          115\n",
      "3         apr456_CR3   2021-11-09               1           69\n",
      "4         apr456_CR3   2021-11-09               2           60\n",
      "5         apr456_CR3   2021-11-23               1           58\n",
      "6         apr456_CR3   2022-02-28               1           98\n",
      "7         apr456_CR3   2022-03-11               1           66\n",
      "8         apr456_CR3   2022-03-18               2          110\n",
      "9         apr456_CR4   2021-11-09               1          112\n",
      "10        apr456_CR4   2021-11-23               1           68\n",
      "11        apr456_CR4   2022-02-21               1           93\n",
      "12        apr456_CR4   2022-03-08               1          102\n",
      "13        apr456_CR4   2022-03-21               1           51\n",
      "14        apr456_CR5   2022-03-08               1          106\n",
      "15        apr456_CR5   2022-03-09               1          112\n",
      "16        apr456_CR5   2022-03-11               1          156\n",
      "17        apr456_CR5   2022-03-21               1           68\n",
      "18        apr456_CR5   2022-03-22               1           87\n",
      "19        apr456_CR5   2022-03-23               1           64\n",
      "20        apr456_CR5   2022-04-04               2           98\n",
      "21        apr456_CR5   2022-04-06               1          152\n",
      "22        apr456_GP1   2021-10-22               1          129\n",
      "23        apr456_GP1   2021-11-01               1          125\n",
      "24        apr456_GP1   2021-11-02               1          111\n",
      "25        apr456_GP1   2021-11-03               1           93\n",
      "26        apr456_GP1   2021-11-10               1           99\n",
      "27        apr456_GP1   2021-11-19               1          136\n",
      "28        apr456_GP1   2021-11-22               1          114\n",
      "29        apr456_GP1   2021-11-23               1          120\n",
      "30        apr456_GP1   2021-11-24               1           99\n",
      "31        apr456_GP1   2021-11-29               1           63\n",
      "32        apr456_GP1   2022-03-03               1           98\n",
      "33        apr456_GP2   2021-11-09               1          110\n",
      "34        apr456_GP3   2022-02-25               1           94\n",
      "35        apr456_GP3   2022-03-03               1           81\n",
      "36        apr456_GP3   2022-04-01               1           64\n",
      "37        apr456_GP3   2022-04-06               2           77\n",
      "38      apr456_GPTS1   2021-10-15               1           93\n",
      "39      apr456_GPTS1   2021-10-22               1           96\n",
      "40      apr456_GPTS1   2021-10-26               1           91\n",
      "41      apr456_GPTS1   2021-11-02               1           26\n",
      "42      apr456_GPTS1   2021-11-19               1           78\n",
      "43      apr456_GPTS1   2021-11-24               1           55\n",
      "44      apr456_GPTS1   2021-11-29               1           79\n",
      "45      apr456_GPTS1   2021-12-01               1           77\n",
      "46      apr456_GPTS1   2021-12-02               1           41\n",
      "47      apr456_GPTS1   2021-12-03               2          117\n",
      "48      apr456_GPTS1   2021-12-14               1           98\n",
      "49      apr456_GPTS2   2021-10-29               1           75\n",
      "50      apr456_GPTS2   2021-11-08               1           42\n",
      "51      apr456_GPTS2   2021-11-10               1          107\n",
      "52      apr456_GPTS2   2021-11-15               1          101\n",
      "53        apr456_TS1   2021-10-18               1           65\n",
      "54        apr456_TS1   2021-10-19               1           92\n",
      "55        apr456_TS1   2021-10-21               1          118\n",
      "56        apr456_TS1   2021-10-29               1           74\n",
      "57       apr456_TS10   2022-02-21               1           99\n",
      "58       apr456_TS10   2022-03-03               1          104\n",
      "59       apr456_TS10   2022-03-07               1           69\n",
      "60       apr456_TS10   2022-03-08               1          104\n",
      "61       apr456_TS10   2022-03-09               1           55\n",
      "62       apr456_TS10   2022-03-10               1           51\n",
      "63       apr456_TS10   2022-04-07               1           84\n",
      "64       apr456_TS10   2022-04-11               1          127\n",
      "65       apr456_TS12   2022-03-14               1           80\n",
      "66       apr456_TS12   2022-03-29               1          101\n",
      "67       apr456_TS12   2022-04-05               4          121\n",
      "68       apr456_TS12   2022-04-06               1           58\n",
      "69       apr456_TS13   2022-02-25               1           96\n",
      "70       apr456_TS13   2022-02-28               1           74\n",
      "71       apr456_TS13   2022-03-01               1           90\n",
      "72       apr456_TS13   2022-03-02               2          116\n",
      "73       apr456_TS13   2022-03-07               1           97\n",
      "74       apr456_TS13   2022-03-08               1          102\n",
      "75       apr456_TS13   2022-03-09               1          117\n",
      "76       apr456_TS13   2022-03-10               1           98\n",
      "77       apr456_TS13   2022-03-11               1          130\n",
      "78       apr456_TS13   2022-03-21               1          120\n",
      "79       apr456_TS13   2022-03-23               1          102\n",
      "80       apr456_TS13   2022-03-28               1           58\n",
      "81       apr456_TS13   2022-03-30               1          150\n",
      "82       apr456_TS13   2022-04-01               1          103\n",
      "83       apr456_TS13   2022-04-04               1           80\n",
      "84       apr456_TS13   2022-04-05               1           82\n",
      "85       apr456_TS13   2022-04-06               1           36\n",
      "86       apr456_TS13   2022-04-07               1           87\n",
      "87       apr456_TS13   2022-04-08               1           65\n",
      "88       apr456_TS13   2022-04-13               1          113\n",
      "89       apr456_TS13   2022-04-14               1           88\n",
      "90       apr456_TS14   2022-03-15               1           99\n",
      "91       apr456_TS14   2022-03-18               1          110\n",
      "92       apr456_TS14   2022-03-22               1           64\n",
      "93       apr456_TS14   2022-03-23               1           67\n",
      "94       apr456_TS14   2022-03-29               1          146\n",
      "95       apr456_TS14   2022-03-30               1          120\n",
      "96       apr456_TS14   2022-04-05               1           94\n",
      "97       apr456_TS14   2022-04-06               1           46\n",
      "98       apr456_TS14   2022-04-07               1           81\n",
      "99       apr456_TS14   2022-04-08               1           60\n",
      "100      apr456_TS14   2022-04-13               1           91\n",
      "101      apr456_TS14   2022-04-14               3          122\n",
      "102      apr456_TS14   2022-04-19               1           61\n",
      "103       apr456_TS2   2021-11-12               1           76\n",
      "104       apr456_TS2   2021-11-16               1           47\n",
      "105       apr456_TS2   2021-11-19               1           98\n",
      "106       apr456_TS2   2021-12-01               1           77\n",
      "107       apr456_TS2   2021-12-14               1           86\n",
      "108       apr456_TS3   2021-12-03               2           79\n",
      "109       apr456_TS3   2021-12-09               1           71\n",
      "110       apr456_TS3   2022-01-25               1           91\n",
      "111       apr456_TS3   2022-01-31               1           83\n",
      "112       apr456_TS3   2022-02-02               1           88\n",
      "113       apr456_TS3   2022-02-04               1          118\n",
      "114       apr456_TS3   2022-02-07               1           51\n",
      "115       apr456_TS3   2022-02-08               1           87\n",
      "116       apr456_TS6   2021-11-30               1           91\n",
      "117       apr456_TS6   2021-12-15               1           83\n",
      "118       apr456_TS6   2022-01-05               1           53\n",
      "119       apr456_TS6   2022-01-06               1           66\n",
      "120       apr456_TS6   2022-01-07               1           24\n",
      "121       apr456_TS6   2022-01-13               1          104\n",
      "122       apr456_TS6   2022-01-14               1           78\n",
      "123       apr456_TS6   2022-01-19               1           62\n",
      "124       apr456_TS6   2022-01-26               1           73\n",
      "125       apr456_TS6   2022-01-31               1           82\n",
      "126       apr456_TS6   2022-02-01               1           78\n",
      "127       apr456_TS6   2022-02-08               1          114\n",
      "128       apr456_TS6   2022-02-21               1          118\n",
      "129       apr456_TS6   2022-02-25               1           81\n",
      "130       apr456_TS6   2022-02-28               1           39\n",
      "131       apr456_TS6   2022-03-01               1           74\n",
      "132       apr456_TS6   2022-03-03               1           68\n"
     ]
    }
   ],
   "source": [
    "test = data.groupby([\"subject_fullname\", \"session_date\", \"session_number\"]).size().reset_index().rename(columns={0:'trial_count'})\n",
    "print(test.to_string())"
   ],
   "metadata": {
    "collapsed": false,
    "pycharm": {
     "name": "#%%\n"
    }
   }
  },
  {
   "cell_type": "code",
   "execution_count": 7,
   "outputs": [],
   "source": [
    "# add previous trial response and previous stim\n",
    "previous_choice=data['choice'].to_numpy()\n",
    "previous_choice=np.insert(previous_choice,0,'nil')\n",
    "previous_choice=np.delete(previous_choice,-1)\n",
    "data['previous_choice']=previous_choice\n",
    "previous_stim = data['num_towers_delta'].to_numpy()\n",
    "previous_stim = np.insert(previous_stim, 0, 'nil')\n",
    "previous_stim = np.delete(previous_stim, -1)\n",
    "data['previous_stim'] = previous_stim\n",
    "\n",
    "# remove nil, 1st trial of block\n",
    "data = data.drop(data[data.choice == 'nil'].index)\n",
    "data = data.drop(data[data.previous_choice == 'nil'].index)\n",
    "data = data.drop(data[data.is_first_trial_of_block == 1].index)"
   ],
   "metadata": {
    "collapsed": false,
    "pycharm": {
     "name": "#%%\n"
    }
   }
  },
  {
   "cell_type": "markdown",
   "source": [],
   "metadata": {
    "collapsed": false
   }
  },
  {
   "cell_type": "code",
   "execution_count": 9,
   "outputs": [],
   "source": [
    "# save the data\n",
    "save_path=r'data/behaviordata_clean.csv'\n",
    "data.to_csv(save_path)"
   ],
   "metadata": {
    "collapsed": false,
    "pycharm": {
     "name": "#%%\n"
    }
   }
  },
  {
   "cell_type": "markdown",
   "source": [
    "## Load clean data"
   ],
   "metadata": {
    "collapsed": false,
    "pycharm": {
     "name": "#%% md\n"
    }
   }
  },
  {
   "cell_type": "code",
   "execution_count": 8,
   "outputs": [],
   "source": [
    "clean_data_path=r'data/behaviordata_clean.csv'\n",
    "data=pd.read_csv(clean_data_path)"
   ],
   "metadata": {
    "collapsed": false,
    "pycharm": {
     "name": "#%%\n"
    }
   }
  },
  {
   "cell_type": "markdown",
   "id": "9bdb7be0",
   "metadata": {
    "pycharm": {
     "name": "#%% md\n"
    }
   },
   "source": [
    "### Initialize GLM-HMM\n",
    "\n",
    "-- The number of states is a selected based on the Ashwood et al. (2020) paper in which they discovered three internal state of mice.\n",
    "-- observation dimension is just the choice the mouse made after reach to the end of the maze of each trial, which is one dimensional\n",
    "-- number of categories is the number of noices the mouse can make. In this case, it is either left (1) or right (0)\n",
    "-- input dimension includes 4 types of input: (1) stimulus of previous trial, (2) stimulus of current trial, (3) choice of last trial and (4) a constant bias term"
   ]
  },
  {
   "cell_type": "code",
   "execution_count": 9,
   "outputs": [],
   "source": [
    "# Set the paramters of the GLM-HMM\n",
    "num_states = 3        # number of discrete states\n",
    "obs_dim = 1           # number of observed dimensions\n",
    "num_categories = 2    # number of categories for output\n",
    "input_dim = 4         # input dimensions\n",
    "# bias + previous stim +previous choice +  stim\n",
    "\n",
    "# Make a GLM-HMM\n",
    "true_glmhmm = ssm.HMM(num_states, obs_dim, input_dim, observations=\"input_driven_obs\",\n",
    "                   observation_kwargs=dict(C=num_categories), transitions=\"standard\")"
   ],
   "metadata": {
    "collapsed": false,
    "pycharm": {
     "name": "#%%\n"
    }
   }
  },
  {
   "cell_type": "code",
   "source": [
    "# formatting the data type for true choice and model inputs\n",
    "\n",
    "true_choice=data['choice'].to_numpy()\n",
    "true_choice[np.where(true_choice=='L')]=1\n",
    "true_choice[np.where(true_choice=='R')]=0\n",
    "# format for true choice:\n",
    "# a list of sessions. Each session(i) is an ndarray with data type of int and shape of trial_len(i) x 1\n",
    "true_choice=[true_choice[:,np.newaxis].astype(int)]\n",
    "\n",
    "# format for inpts:\n",
    "# a list of sessions, same length of true choice.\n",
    "# Each session(i) is an ndarray with data type of float and shape of trial_len(i) x input_dim\n",
    "inpts=data[['previous_choice','previous_stim','num_towers_delta']].to_numpy()\n",
    "inpts=np.hstack([inpts,np.random.rand(len(inpts),1)])\n",
    "inpts[np.where(inpts=='L')]=1\n",
    "inpts[np.where(inpts=='R')]=0\n",
    "inpts=[inpts.astype(float)]\n",
    "\n",
    "# # divide data into training and testing\n",
    "inpts = np.array(inpts)\n",
    "numtest = np.floor(inpts.shape[1]*0.1).astype(int)\n",
    "train_idx = np.ones(inpts.shape[1]).astype(bool)\n",
    "train_idx[:numtest] = False\n",
    "test_idx = ~train_idx\n",
    "inpts_train = inpts[:, train_idx, :]\n",
    "inpts_test = inpts[:, test_idx, :]\n",
    "\n",
    "inpts_train = list(inpts_train)\n",
    "inpts_test = list(inpts_test)\n",
    "true_choice_train = [true_choice[0][train_idx]]\n",
    "true_choice_test = [true_choice[0][test_idx]]\n",
    "inpts = list(inpts)\n",
    "\n",
    "print(inpts_train[0].shape)\n",
    "print(true_choice_train[0].shape)"
   ],
   "metadata": {
    "collapsed": false,
    "pycharm": {
     "name": "#%%\n"
    }
   },
   "execution_count": 11,
   "outputs": [
    {
     "name": "stdout",
     "output_type": "stream",
     "text": [
      "(9659, 4)\n",
      "(9659, 1)\n"
     ]
    }
   ]
  },
  {
   "cell_type": "markdown",
   "source": [
    "### Model fitting\n",
    "Here we use the training set to fit the model"
   ],
   "metadata": {
    "collapsed": false,
    "pycharm": {
     "name": "#%% md\n"
    }
   }
  },
  {
   "cell_type": "code",
   "source": [
    "print(true_choice_train[0].shape)\n",
    "print(inpts_train[0].shape)\n",
    "N_iter=500\n",
    "fit_ll=true_glmhmm.fit(true_choice_train,inputs=inpts_train,method='em',num_iters=N_iter,tolerance=10e-8)"
   ],
   "metadata": {
    "collapsed": false,
    "pycharm": {
     "name": "#%%\n"
    }
   },
   "execution_count": 13,
   "outputs": [
    {
     "name": "stdout",
     "output_type": "stream",
     "text": [
      "(9659, 1)\n",
      "(9659, 4)\n"
     ]
    },
    {
     "data": {
      "text/plain": "  0%|          | 0/500 [00:00<?, ?it/s]",
      "application/vnd.jupyter.widget-view+json": {
       "version_major": 2,
       "version_minor": 0,
       "model_id": "613f04cf422d4b83867fa70b34f11258"
      }
     },
     "metadata": {},
     "output_type": "display_data"
    }
   ]
  },
  {
   "cell_type": "code",
   "execution_count": 21,
   "outputs": [
    {
     "name": "stdout",
     "output_type": "stream",
     "text": [
      "training set standardized log likelihood = -0.6032582331642011\n",
      "testing set standardized log likelihood = -0.6523987259124749\n"
     ]
    }
   ],
   "source": [
    "# calculate negative log likelihood for training set and testing set\n",
    "train_set_ll = true_glmhmm.log_probability(true_choice_train, inputs=inpts_train)\n",
    "test_set_ll = true_glmhmm.log_probability(true_choice_test, inputs=inpts_test)\n",
    "print(\"training set standardized log likelihood = \" + str(train_set_ll/len(true_choice_train[0])))\n",
    "print(\"testing set standardized log likelihood = \" + str(test_set_ll/len(true_choice_test[0])))"
   ],
   "metadata": {
    "collapsed": false,
    "pycharm": {
     "name": "#%%\n"
    }
   }
  },
  {
   "cell_type": "markdown",
   "source": [
    "Here we can see LL on training set is larger than LL on testing set"
   ],
   "metadata": {
    "collapsed": false,
    "pycharm": {
     "name": "#%% md\n"
    }
   }
  },
  {
   "cell_type": "code",
   "execution_count": 22,
   "outputs": [
    {
     "data": {
      "text/plain": "<Figure size 320x240 with 1 Axes>",
      "image/png": "[encoded data removed]"
     },
     "metadata": {},
     "output_type": "display_data"
    }
   ],
   "source": [
    "# Plot the log probabilities of the true and fit models. Fit model final NLL should be greater\n",
    "# than or equal to true LL.\n",
    "fig = plt.figure(figsize=(4, 3), dpi=80, facecolor='w', edgecolor='k')\n",
    "plt.plot(fit_ll, label=\"EM\")\n",
    "plt.plot([0, len(fit_ll)], train_set_ll * np.ones(2), ':k', label=\"True\")\n",
    "plt.legend(loc=\"lower right\")\n",
    "plt.xlabel(\"EM Iteration\")\n",
    "plt.xlim(0, len(fit_ll))\n",
    "plt.ylabel(\"Log Probability\")\n",
    "plt.show()"
   ],
   "metadata": {
    "collapsed": false,
    "pycharm": {
     "name": "#%%\n"
    }
   }
  },
  {
   "cell_type": "markdown",
   "source": [],
   "metadata": {
    "collapsed": false
   }
  },
  {
   "cell_type": "markdown",
   "source": [
    "## Retrieved parameters\n",
    "Take a peak into the transition probability of the trained model. And further look into the state transition over time"
   ],
   "metadata": {
    "collapsed": false,
    "pycharm": {
     "name": "#%% md\n"
    }
   }
  },
  {
   "cell_type": "code",
   "execution_count": 23,
   "outputs": [
    {
     "data": {
      "text/plain": "<Figure size 400x200 with 1 Axes>",
      "image/png": "[encoded data removed]"
     },
     "metadata": {},
     "output_type": "display_data"
    }
   ],
   "source": [
    "fig = plt.figure(figsize=(5, 2.5), dpi=80, facecolor='w', edgecolor='k')\n",
    "plt.subplot(1, 2, 2)\n",
    "recovered_trans_mat = np.exp(true_glmhmm.transitions.log_Ps)\n",
    "plt.imshow(recovered_trans_mat, vmin=-0.8, vmax=1, cmap='bone')\n",
    "for i in range(recovered_trans_mat.shape[0]):\n",
    "    for j in range(recovered_trans_mat.shape[1]):\n",
    "        text = plt.text(j, i, str(np.around(recovered_trans_mat[i, j], decimals=2)), ha=\"center\", va=\"center\",\n",
    "                        color=\"k\", fontsize=12)\n",
    "plt.xlim(-0.5, num_states - 0.5)\n",
    "plt.xticks(range(0, num_states), ('1', '2', '3'), fontsize=10)\n",
    "plt.yticks(range(0, num_states), ('1', '2', '3'), fontsize=10)\n",
    "plt.ylim(num_states - 0.5, -0.5)\n",
    "plt.title(\"state transition matrix\", fontsize = 15)\n",
    "plt.subplots_adjust(0, 0, 1, 1)"
   ],
   "metadata": {
    "collapsed": false,
    "pycharm": {
     "name": "#%%\n"
    }
   }
  },
  {
   "cell_type": "code",
   "execution_count": 35,
   "outputs": [],
   "source": [
    "# Get expected states:\n",
    "posterior_probs = [true_glmhmm.expected_states(data=data, input=inpt)[0]\n",
    "                for data, inpt\n",
    "                in zip(true_choice, inpts)]"
   ],
   "metadata": {
    "collapsed": false,
    "pycharm": {
     "name": "#%%\n"
    }
   }
  },
  {
   "cell_type": "code",
   "execution_count": 36,
   "outputs": [
    {
     "data": {
      "text/plain": "Text(0, 0.5, 'p(state)')"
     },
     "execution_count": 36,
     "metadata": {},
     "output_type": "execute_result"
    },
    {
     "data": {
      "text/plain": "<Figure size 1200x200 with 1 Axes>",
      "image/png": "[encoded data removed]"
     },
     "metadata": {},
     "output_type": "display_data"
    }
   ],
   "source": [
    "fig = plt.figure(figsize=(15, 2.5), dpi=80, facecolor='w', edgecolor='k')\n",
    "cols = ['#ff7f00', '#4daf4a', '#377eb8']\n",
    "sess_id = 0 #session id; can choose any index between 0 and num_sess-1\n",
    "for k in range(num_states):\n",
    "    plt.plot(posterior_probs[sess_id][:, k], label=\"State \" + str(k + 1), lw=2,\n",
    "             color=cols[k])\n",
    "plt.ylim((-0.01, 1.01))\n",
    "plt.xlim((0, 300))\n",
    "plt.yticks([0, 0.5, 1], fontsize = 10)\n",
    "plt.xlabel(\"trial #\", fontsize = 15)\n",
    "plt.ylabel(\"p(state)\", fontsize = 15)"
   ],
   "metadata": {
    "collapsed": false,
    "pycharm": {
     "name": "#%%\n"
    }
   }
  },
  {
   "cell_type": "code",
   "execution_count": 27,
   "outputs": [
    {
     "name": "stdout",
     "output_type": "stream",
     "text": [
      "frequency of choice R in true_choice_test: 0.5147530800289886\n",
      "correct choice of choosing R :0.5467439693550057\n"
     ]
    }
   ],
   "source": [
    "# simulate the result based on test inputs\n",
    "\n",
    "simulated_z,simulated_x=true_glmhmm.sample(len(inpts_train[0]),input=inpts_train[0]) # simulated_x is the simulated data\n",
    "correct=np.where(simulated_x-true_choice_train[0]==0)[0]\n",
    "correctness=len(correct)/len(true_choice_train[0])\n",
    "\n",
    "p=len(np.where(true_choice_train[0]==0)[0])/len(true_choice_train[0])\n",
    "print(f'frequency of choice R in true_choice_test: {p}')\n",
    "print(f'correct choice of choosing R :{correctness}')"
   ],
   "metadata": {
    "collapsed": false,
    "pycharm": {
     "name": "#%%\n"
    }
   }
  },
  {
   "cell_type": "code",
   "execution_count": null,
   "outputs": [],
   "source": [],
   "metadata": {
    "collapsed": false,
    "pycharm": {
     "name": "#%%\n"
    }
   }
  }
 ],
 "metadata": {
  "kernelspec": {
   "display_name": "Python 3 (ipykernel)",
   "language": "python",
   "name": "python3"
  },
  "language_info": {
   "codemirror_mode": {
    "name": "ipython",
    "version": 3
   },
   "file_extension": ".py",
   "mimetype": "text/x-python",
   "name": "python",
   "nbconvert_exporter": "python",
   "pygments_lexer": "ipython3",
   "version": "3.9.7"
  }
 },
 "nbformat": 4,
 "nbformat_minor": 5
}